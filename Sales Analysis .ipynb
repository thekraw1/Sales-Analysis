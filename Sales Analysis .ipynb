{
 "cells": [
  {
   "cell_type": "markdown",
   "id": "9d07e314",
   "metadata": {},
   "source": [
    " # <span style='color:green'>  1.\tData Wrangling  </span>"
   ]
  },
  {
   "cell_type": "markdown",
   "id": "9f79f252",
   "metadata": {},
   "source": [
    "<div class=\"alert-success\">\n",
    "● Importing Libraries and Data:\n",
    "</div>"
   ]
  },
  {
   "cell_type": "code",
   "execution_count": 1,
   "id": "e17db5a6",
   "metadata": {
    "tags": []
   },
   "outputs": [],
   "source": [
    "import datetime\n",
    "import numpy as np\n",
    "import pandas as pd\n",
    "\n",
    "import matplotlib as mpl\n",
    "import matplotlib.pyplot as plt\n",
    "\n",
    "import seaborn as sns\n",
    "import seaborn.objects as so\n",
    "\n",
    "from sklearn import preprocessing\n",
    "from sklearn.preprocessing import MinMaxScaler"
   ]
  },
  {
   "cell_type": "code",
   "execution_count": 2,
   "id": "e6d29397",
   "metadata": {
    "tags": []
   },
   "outputs": [
    {
     "data": {
      "text/html": [
       "<div>\n",
       "<style scoped>\n",
       "    .dataframe tbody tr th:only-of-type {\n",
       "        vertical-align: middle;\n",
       "    }\n",
       "\n",
       "    .dataframe tbody tr th {\n",
       "        vertical-align: top;\n",
       "    }\n",
       "\n",
       "    .dataframe thead th {\n",
       "        text-align: right;\n",
       "    }\n",
       "</style>\n",
       "<table border=\"1\" class=\"dataframe\">\n",
       "  <thead>\n",
       "    <tr style=\"text-align: right;\">\n",
       "      <th></th>\n",
       "      <th>Date</th>\n",
       "      <th>Time</th>\n",
       "      <th>State</th>\n",
       "      <th>Group</th>\n",
       "      <th>Unit</th>\n",
       "      <th>Sales</th>\n",
       "    </tr>\n",
       "  </thead>\n",
       "  <tbody>\n",
       "    <tr>\n",
       "      <th>0</th>\n",
       "      <td>10/1/2020</td>\n",
       "      <td>Morning</td>\n",
       "      <td>WA</td>\n",
       "      <td>Kids</td>\n",
       "      <td>8</td>\n",
       "      <td>20000</td>\n",
       "    </tr>\n",
       "    <tr>\n",
       "      <th>1</th>\n",
       "      <td>10/1/2020</td>\n",
       "      <td>Morning</td>\n",
       "      <td>WA</td>\n",
       "      <td>Men</td>\n",
       "      <td>8</td>\n",
       "      <td>20000</td>\n",
       "    </tr>\n",
       "    <tr>\n",
       "      <th>2</th>\n",
       "      <td>10/1/2020</td>\n",
       "      <td>Morning</td>\n",
       "      <td>WA</td>\n",
       "      <td>Women</td>\n",
       "      <td>4</td>\n",
       "      <td>10000</td>\n",
       "    </tr>\n",
       "    <tr>\n",
       "      <th>3</th>\n",
       "      <td>10/1/2020</td>\n",
       "      <td>Morning</td>\n",
       "      <td>WA</td>\n",
       "      <td>Seniors</td>\n",
       "      <td>15</td>\n",
       "      <td>37500</td>\n",
       "    </tr>\n",
       "    <tr>\n",
       "      <th>4</th>\n",
       "      <td>10/1/2020</td>\n",
       "      <td>Afternoon</td>\n",
       "      <td>WA</td>\n",
       "      <td>Kids</td>\n",
       "      <td>3</td>\n",
       "      <td>7500</td>\n",
       "    </tr>\n",
       "  </tbody>\n",
       "</table>\n",
       "</div>"
      ],
      "text/plain": [
       "        Date        Time State     Group  Unit  Sales\n",
       "0  10/1/2020     Morning    WA      Kids     8  20000\n",
       "1  10/1/2020     Morning    WA       Men     8  20000\n",
       "2  10/1/2020     Morning    WA     Women     4  10000\n",
       "3  10/1/2020     Morning    WA   Seniors    15  37500\n",
       "4  10/1/2020   Afternoon    WA      Kids     3   7500"
      ]
     },
     "execution_count": 2,
     "metadata": {},
     "output_type": "execute_result"
    }
   ],
   "source": [
    "df = pd.read_csv('salsedataset1.csv',encoding='ISO-8859-1', sep=';')\n",
    "df.head()"
   ]
  },
  {
   "cell_type": "code",
   "execution_count": 3,
   "id": "538c4444",
   "metadata": {
    "tags": []
   },
   "outputs": [
    {
     "name": "stdout",
     "output_type": "stream",
     "text": [
      "<class 'pandas.core.frame.DataFrame'>\n",
      "RangeIndex: 7560 entries, 0 to 7559\n",
      "Data columns (total 6 columns):\n",
      " #   Column  Non-Null Count  Dtype \n",
      "---  ------  --------------  ----- \n",
      " 0   Date    7560 non-null   object\n",
      " 1   Time    7560 non-null   object\n",
      " 2   State   7560 non-null   object\n",
      " 3   Group   7560 non-null   object\n",
      " 4   Unit    7560 non-null   int64 \n",
      " 5   Sales   7560 non-null   int64 \n",
      "dtypes: int64(2), object(4)\n",
      "memory usage: 354.5+ KB\n"
     ]
    }
   ],
   "source": [
    "df.info()"
   ]
  },
  {
   "cell_type": "code",
   "execution_count": 4,
   "id": "e6e9480f",
   "metadata": {
    "tags": []
   },
   "outputs": [
    {
     "data": {
      "text/html": [
       "<div>\n",
       "<style scoped>\n",
       "    .dataframe tbody tr th:only-of-type {\n",
       "        vertical-align: middle;\n",
       "    }\n",
       "\n",
       "    .dataframe tbody tr th {\n",
       "        vertical-align: top;\n",
       "    }\n",
       "\n",
       "    .dataframe thead th {\n",
       "        text-align: right;\n",
       "    }\n",
       "</style>\n",
       "<table border=\"1\" class=\"dataframe\">\n",
       "  <thead>\n",
       "    <tr style=\"text-align: right;\">\n",
       "      <th></th>\n",
       "      <th>Date</th>\n",
       "      <th>Time</th>\n",
       "      <th>State</th>\n",
       "      <th>Group</th>\n",
       "      <th>Unit</th>\n",
       "      <th>Sales</th>\n",
       "    </tr>\n",
       "  </thead>\n",
       "  <tbody>\n",
       "    <tr>\n",
       "      <th>0</th>\n",
       "      <td>10/1/2020</td>\n",
       "      <td>Morning</td>\n",
       "      <td>WA</td>\n",
       "      <td>Kids</td>\n",
       "      <td>8</td>\n",
       "      <td>20000</td>\n",
       "    </tr>\n",
       "    <tr>\n",
       "      <th>1</th>\n",
       "      <td>10/1/2020</td>\n",
       "      <td>Morning</td>\n",
       "      <td>WA</td>\n",
       "      <td>Men</td>\n",
       "      <td>8</td>\n",
       "      <td>20000</td>\n",
       "    </tr>\n",
       "    <tr>\n",
       "      <th>2</th>\n",
       "      <td>10/1/2020</td>\n",
       "      <td>Morning</td>\n",
       "      <td>WA</td>\n",
       "      <td>Women</td>\n",
       "      <td>4</td>\n",
       "      <td>10000</td>\n",
       "    </tr>\n",
       "    <tr>\n",
       "      <th>3</th>\n",
       "      <td>10/1/2020</td>\n",
       "      <td>Morning</td>\n",
       "      <td>WA</td>\n",
       "      <td>Seniors</td>\n",
       "      <td>15</td>\n",
       "      <td>37500</td>\n",
       "    </tr>\n",
       "    <tr>\n",
       "      <th>4</th>\n",
       "      <td>10/1/2020</td>\n",
       "      <td>Afternoon</td>\n",
       "      <td>WA</td>\n",
       "      <td>Kids</td>\n",
       "      <td>3</td>\n",
       "      <td>7500</td>\n",
       "    </tr>\n",
       "    <tr>\n",
       "      <th>...</th>\n",
       "      <td>...</td>\n",
       "      <td>...</td>\n",
       "      <td>...</td>\n",
       "      <td>...</td>\n",
       "      <td>...</td>\n",
       "      <td>...</td>\n",
       "    </tr>\n",
       "    <tr>\n",
       "      <th>7555</th>\n",
       "      <td>12/30/2020</td>\n",
       "      <td>Afternoon</td>\n",
       "      <td>TAS</td>\n",
       "      <td>Seniors</td>\n",
       "      <td>14</td>\n",
       "      <td>35000</td>\n",
       "    </tr>\n",
       "    <tr>\n",
       "      <th>7556</th>\n",
       "      <td>12/30/2020</td>\n",
       "      <td>Evening</td>\n",
       "      <td>TAS</td>\n",
       "      <td>Kids</td>\n",
       "      <td>15</td>\n",
       "      <td>37500</td>\n",
       "    </tr>\n",
       "    <tr>\n",
       "      <th>7557</th>\n",
       "      <td>12/30/2020</td>\n",
       "      <td>Evening</td>\n",
       "      <td>TAS</td>\n",
       "      <td>Men</td>\n",
       "      <td>15</td>\n",
       "      <td>37500</td>\n",
       "    </tr>\n",
       "    <tr>\n",
       "      <th>7558</th>\n",
       "      <td>12/30/2020</td>\n",
       "      <td>Evening</td>\n",
       "      <td>TAS</td>\n",
       "      <td>Women</td>\n",
       "      <td>11</td>\n",
       "      <td>27500</td>\n",
       "    </tr>\n",
       "    <tr>\n",
       "      <th>7559</th>\n",
       "      <td>12/30/2020</td>\n",
       "      <td>Evening</td>\n",
       "      <td>TAS</td>\n",
       "      <td>Seniors</td>\n",
       "      <td>13</td>\n",
       "      <td>32500</td>\n",
       "    </tr>\n",
       "  </tbody>\n",
       "</table>\n",
       "<p>7560 rows × 6 columns</p>\n",
       "</div>"
      ],
      "text/plain": [
       "            Date        Time State     Group  Unit  Sales\n",
       "0      10/1/2020     Morning    WA      Kids     8  20000\n",
       "1      10/1/2020     Morning    WA       Men     8  20000\n",
       "2      10/1/2020     Morning    WA     Women     4  10000\n",
       "3      10/1/2020     Morning    WA   Seniors    15  37500\n",
       "4      10/1/2020   Afternoon    WA      Kids     3   7500\n",
       "...          ...         ...   ...       ...   ...    ...\n",
       "7555  12/30/2020   Afternoon   TAS   Seniors    14  35000\n",
       "7556  12/30/2020     Evening   TAS      Kids    15  37500\n",
       "7557  12/30/2020     Evening   TAS       Men    15  37500\n",
       "7558  12/30/2020     Evening   TAS     Women    11  27500\n",
       "7559  12/30/2020     Evening   TAS   Seniors    13  32500\n",
       "\n",
       "[7560 rows x 6 columns]"
      ]
     },
     "execution_count": 4,
     "metadata": {},
     "output_type": "execute_result"
    }
   ],
   "source": [
    "df"
   ]
  },
  {
   "cell_type": "code",
   "execution_count": 5,
   "id": "89c0f886",
   "metadata": {
    "tags": []
   },
   "outputs": [
    {
     "data": {
      "text/plain": [
       "Index(['Date', 'Time', 'State', 'Group', 'Unit', 'Sales'], dtype='object')"
      ]
     },
     "execution_count": 5,
     "metadata": {},
     "output_type": "execute_result"
    }
   ],
   "source": [
    "df.columns"
   ]
  },
  {
   "cell_type": "markdown",
   "id": "f5a9f63d",
   "metadata": {},
   "source": [
    "<div class=\"alert-success\">\n",
    "●\tEnsure that the data is clean and that there is no missing or incorrect data: \n",
    "</div>"
   ]
  },
  {
   "cell_type": "code",
   "execution_count": 6,
   "id": "12c7ae9c-780c-477b-bc86-2ec0d4373393",
   "metadata": {
    "tags": []
   },
   "outputs": [
    {
     "data": {
      "text/html": [
       "<div>\n",
       "<style scoped>\n",
       "    .dataframe tbody tr th:only-of-type {\n",
       "        vertical-align: middle;\n",
       "    }\n",
       "\n",
       "    .dataframe tbody tr th {\n",
       "        vertical-align: top;\n",
       "    }\n",
       "\n",
       "    .dataframe thead th {\n",
       "        text-align: right;\n",
       "    }\n",
       "</style>\n",
       "<table border=\"1\" class=\"dataframe\">\n",
       "  <thead>\n",
       "    <tr style=\"text-align: right;\">\n",
       "      <th></th>\n",
       "      <th>Date</th>\n",
       "      <th>Time</th>\n",
       "      <th>State</th>\n",
       "      <th>Group</th>\n",
       "      <th>Unit</th>\n",
       "      <th>Sales</th>\n",
       "    </tr>\n",
       "  </thead>\n",
       "  <tbody>\n",
       "    <tr>\n",
       "      <th>0</th>\n",
       "      <td>False</td>\n",
       "      <td>False</td>\n",
       "      <td>False</td>\n",
       "      <td>False</td>\n",
       "      <td>False</td>\n",
       "      <td>False</td>\n",
       "    </tr>\n",
       "    <tr>\n",
       "      <th>1</th>\n",
       "      <td>False</td>\n",
       "      <td>False</td>\n",
       "      <td>False</td>\n",
       "      <td>False</td>\n",
       "      <td>False</td>\n",
       "      <td>False</td>\n",
       "    </tr>\n",
       "    <tr>\n",
       "      <th>2</th>\n",
       "      <td>False</td>\n",
       "      <td>False</td>\n",
       "      <td>False</td>\n",
       "      <td>False</td>\n",
       "      <td>False</td>\n",
       "      <td>False</td>\n",
       "    </tr>\n",
       "    <tr>\n",
       "      <th>3</th>\n",
       "      <td>False</td>\n",
       "      <td>False</td>\n",
       "      <td>False</td>\n",
       "      <td>False</td>\n",
       "      <td>False</td>\n",
       "      <td>False</td>\n",
       "    </tr>\n",
       "    <tr>\n",
       "      <th>4</th>\n",
       "      <td>False</td>\n",
       "      <td>False</td>\n",
       "      <td>False</td>\n",
       "      <td>False</td>\n",
       "      <td>False</td>\n",
       "      <td>False</td>\n",
       "    </tr>\n",
       "    <tr>\n",
       "      <th>...</th>\n",
       "      <td>...</td>\n",
       "      <td>...</td>\n",
       "      <td>...</td>\n",
       "      <td>...</td>\n",
       "      <td>...</td>\n",
       "      <td>...</td>\n",
       "    </tr>\n",
       "    <tr>\n",
       "      <th>7555</th>\n",
       "      <td>False</td>\n",
       "      <td>False</td>\n",
       "      <td>False</td>\n",
       "      <td>False</td>\n",
       "      <td>False</td>\n",
       "      <td>False</td>\n",
       "    </tr>\n",
       "    <tr>\n",
       "      <th>7556</th>\n",
       "      <td>False</td>\n",
       "      <td>False</td>\n",
       "      <td>False</td>\n",
       "      <td>False</td>\n",
       "      <td>False</td>\n",
       "      <td>False</td>\n",
       "    </tr>\n",
       "    <tr>\n",
       "      <th>7557</th>\n",
       "      <td>False</td>\n",
       "      <td>False</td>\n",
       "      <td>False</td>\n",
       "      <td>False</td>\n",
       "      <td>False</td>\n",
       "      <td>False</td>\n",
       "    </tr>\n",
       "    <tr>\n",
       "      <th>7558</th>\n",
       "      <td>False</td>\n",
       "      <td>False</td>\n",
       "      <td>False</td>\n",
       "      <td>False</td>\n",
       "      <td>False</td>\n",
       "      <td>False</td>\n",
       "    </tr>\n",
       "    <tr>\n",
       "      <th>7559</th>\n",
       "      <td>False</td>\n",
       "      <td>False</td>\n",
       "      <td>False</td>\n",
       "      <td>False</td>\n",
       "      <td>False</td>\n",
       "      <td>False</td>\n",
       "    </tr>\n",
       "  </tbody>\n",
       "</table>\n",
       "<p>7560 rows × 6 columns</p>\n",
       "</div>"
      ],
      "text/plain": [
       "       Date   Time  State  Group   Unit  Sales\n",
       "0     False  False  False  False  False  False\n",
       "1     False  False  False  False  False  False\n",
       "2     False  False  False  False  False  False\n",
       "3     False  False  False  False  False  False\n",
       "4     False  False  False  False  False  False\n",
       "...     ...    ...    ...    ...    ...    ...\n",
       "7555  False  False  False  False  False  False\n",
       "7556  False  False  False  False  False  False\n",
       "7557  False  False  False  False  False  False\n",
       "7558  False  False  False  False  False  False\n",
       "7559  False  False  False  False  False  False\n",
       "\n",
       "[7560 rows x 6 columns]"
      ]
     },
     "execution_count": 6,
     "metadata": {},
     "output_type": "execute_result"
    }
   ],
   "source": [
    "df.isna()\n",
    "# returns TRUE where it detects a missing value"
   ]
  },
  {
   "cell_type": "code",
   "execution_count": 7,
   "id": "280590af-0961-4696-bb57-ea29fa8dafd4",
   "metadata": {
    "tags": []
   },
   "outputs": [
    {
     "data": {
      "text/html": [
       "<div>\n",
       "<style scoped>\n",
       "    .dataframe tbody tr th:only-of-type {\n",
       "        vertical-align: middle;\n",
       "    }\n",
       "\n",
       "    .dataframe tbody tr th {\n",
       "        vertical-align: top;\n",
       "    }\n",
       "\n",
       "    .dataframe thead th {\n",
       "        text-align: right;\n",
       "    }\n",
       "</style>\n",
       "<table border=\"1\" class=\"dataframe\">\n",
       "  <thead>\n",
       "    <tr style=\"text-align: right;\">\n",
       "      <th></th>\n",
       "      <th>Date</th>\n",
       "      <th>Time</th>\n",
       "      <th>State</th>\n",
       "      <th>Group</th>\n",
       "      <th>Unit</th>\n",
       "      <th>Sales</th>\n",
       "    </tr>\n",
       "  </thead>\n",
       "  <tbody>\n",
       "    <tr>\n",
       "      <th>0</th>\n",
       "      <td>True</td>\n",
       "      <td>True</td>\n",
       "      <td>True</td>\n",
       "      <td>True</td>\n",
       "      <td>True</td>\n",
       "      <td>True</td>\n",
       "    </tr>\n",
       "    <tr>\n",
       "      <th>1</th>\n",
       "      <td>True</td>\n",
       "      <td>True</td>\n",
       "      <td>True</td>\n",
       "      <td>True</td>\n",
       "      <td>True</td>\n",
       "      <td>True</td>\n",
       "    </tr>\n",
       "    <tr>\n",
       "      <th>2</th>\n",
       "      <td>True</td>\n",
       "      <td>True</td>\n",
       "      <td>True</td>\n",
       "      <td>True</td>\n",
       "      <td>True</td>\n",
       "      <td>True</td>\n",
       "    </tr>\n",
       "    <tr>\n",
       "      <th>3</th>\n",
       "      <td>True</td>\n",
       "      <td>True</td>\n",
       "      <td>True</td>\n",
       "      <td>True</td>\n",
       "      <td>True</td>\n",
       "      <td>True</td>\n",
       "    </tr>\n",
       "    <tr>\n",
       "      <th>4</th>\n",
       "      <td>True</td>\n",
       "      <td>True</td>\n",
       "      <td>True</td>\n",
       "      <td>True</td>\n",
       "      <td>True</td>\n",
       "      <td>True</td>\n",
       "    </tr>\n",
       "    <tr>\n",
       "      <th>...</th>\n",
       "      <td>...</td>\n",
       "      <td>...</td>\n",
       "      <td>...</td>\n",
       "      <td>...</td>\n",
       "      <td>...</td>\n",
       "      <td>...</td>\n",
       "    </tr>\n",
       "    <tr>\n",
       "      <th>7555</th>\n",
       "      <td>True</td>\n",
       "      <td>True</td>\n",
       "      <td>True</td>\n",
       "      <td>True</td>\n",
       "      <td>True</td>\n",
       "      <td>True</td>\n",
       "    </tr>\n",
       "    <tr>\n",
       "      <th>7556</th>\n",
       "      <td>True</td>\n",
       "      <td>True</td>\n",
       "      <td>True</td>\n",
       "      <td>True</td>\n",
       "      <td>True</td>\n",
       "      <td>True</td>\n",
       "    </tr>\n",
       "    <tr>\n",
       "      <th>7557</th>\n",
       "      <td>True</td>\n",
       "      <td>True</td>\n",
       "      <td>True</td>\n",
       "      <td>True</td>\n",
       "      <td>True</td>\n",
       "      <td>True</td>\n",
       "    </tr>\n",
       "    <tr>\n",
       "      <th>7558</th>\n",
       "      <td>True</td>\n",
       "      <td>True</td>\n",
       "      <td>True</td>\n",
       "      <td>True</td>\n",
       "      <td>True</td>\n",
       "      <td>True</td>\n",
       "    </tr>\n",
       "    <tr>\n",
       "      <th>7559</th>\n",
       "      <td>True</td>\n",
       "      <td>True</td>\n",
       "      <td>True</td>\n",
       "      <td>True</td>\n",
       "      <td>True</td>\n",
       "      <td>True</td>\n",
       "    </tr>\n",
       "  </tbody>\n",
       "</table>\n",
       "<p>7560 rows × 6 columns</p>\n",
       "</div>"
      ],
      "text/plain": [
       "      Date  Time  State  Group  Unit  Sales\n",
       "0     True  True   True   True  True   True\n",
       "1     True  True   True   True  True   True\n",
       "2     True  True   True   True  True   True\n",
       "3     True  True   True   True  True   True\n",
       "4     True  True   True   True  True   True\n",
       "...    ...   ...    ...    ...   ...    ...\n",
       "7555  True  True   True   True  True   True\n",
       "7556  True  True   True   True  True   True\n",
       "7557  True  True   True   True  True   True\n",
       "7558  True  True   True   True  True   True\n",
       "7559  True  True   True   True  True   True\n",
       "\n",
       "[7560 rows x 6 columns]"
      ]
     },
     "execution_count": 7,
     "metadata": {},
     "output_type": "execute_result"
    }
   ],
   "source": [
    "df.notna()\n",
    "# returns TRUE, if the data is free from missing"
   ]
  },
  {
   "cell_type": "code",
   "execution_count": 8,
   "id": "63eb3a80",
   "metadata": {},
   "outputs": [
    {
     "name": "stdout",
     "output_type": "stream",
     "text": [
      "Date     0\n",
      "Time     0\n",
      "State    0\n",
      "Group    0\n",
      "Unit     0\n",
      "Sales    0\n",
      "dtype: int64\n"
     ]
    }
   ],
   "source": [
    "print(df.isnull().sum())"
   ]
  },
  {
   "cell_type": "markdown",
   "id": "c9c92edf",
   "metadata": {},
   "source": [
    " # <span style='color:green'>  2.\tData Analysis   </span>"
   ]
  },
  {
   "cell_type": "markdown",
   "id": "136676cb",
   "metadata": {},
   "source": [
    "<div class=\"alert-success\">\n",
    "● Descriptive Statistical Analysis:\n",
    "</div>"
   ]
  },
  {
   "cell_type": "code",
   "execution_count": 9,
   "id": "f8e4c073-09f9-449c-9620-9a5ddcb34706",
   "metadata": {
    "tags": []
   },
   "outputs": [
    {
     "data": {
      "text/html": [
       "<div>\n",
       "<style scoped>\n",
       "    .dataframe tbody tr th:only-of-type {\n",
       "        vertical-align: middle;\n",
       "    }\n",
       "\n",
       "    .dataframe tbody tr th {\n",
       "        vertical-align: top;\n",
       "    }\n",
       "\n",
       "    .dataframe thead th {\n",
       "        text-align: right;\n",
       "    }\n",
       "</style>\n",
       "<table border=\"1\" class=\"dataframe\">\n",
       "  <thead>\n",
       "    <tr style=\"text-align: right;\">\n",
       "      <th></th>\n",
       "      <th>Unit</th>\n",
       "      <th>Sales</th>\n",
       "    </tr>\n",
       "  </thead>\n",
       "  <tbody>\n",
       "    <tr>\n",
       "      <th>count</th>\n",
       "      <td>7560.000000</td>\n",
       "      <td>7560.000000</td>\n",
       "    </tr>\n",
       "    <tr>\n",
       "      <th>mean</th>\n",
       "      <td>18.005423</td>\n",
       "      <td>45013.558201</td>\n",
       "    </tr>\n",
       "    <tr>\n",
       "      <th>std</th>\n",
       "      <td>12.901403</td>\n",
       "      <td>32253.506944</td>\n",
       "    </tr>\n",
       "    <tr>\n",
       "      <th>min</th>\n",
       "      <td>2.000000</td>\n",
       "      <td>5000.000000</td>\n",
       "    </tr>\n",
       "    <tr>\n",
       "      <th>25%</th>\n",
       "      <td>8.000000</td>\n",
       "      <td>20000.000000</td>\n",
       "    </tr>\n",
       "    <tr>\n",
       "      <th>50%</th>\n",
       "      <td>14.000000</td>\n",
       "      <td>35000.000000</td>\n",
       "    </tr>\n",
       "    <tr>\n",
       "      <th>75%</th>\n",
       "      <td>26.000000</td>\n",
       "      <td>65000.000000</td>\n",
       "    </tr>\n",
       "    <tr>\n",
       "      <th>max</th>\n",
       "      <td>65.000000</td>\n",
       "      <td>162500.000000</td>\n",
       "    </tr>\n",
       "  </tbody>\n",
       "</table>\n",
       "</div>"
      ],
      "text/plain": [
       "              Unit          Sales\n",
       "count  7560.000000    7560.000000\n",
       "mean     18.005423   45013.558201\n",
       "std      12.901403   32253.506944\n",
       "min       2.000000    5000.000000\n",
       "25%       8.000000   20000.000000\n",
       "50%      14.000000   35000.000000\n",
       "75%      26.000000   65000.000000\n",
       "max      65.000000  162500.000000"
      ]
     },
     "execution_count": 9,
     "metadata": {},
     "output_type": "execute_result"
    }
   ],
   "source": [
    "df.describe()"
   ]
  },
  {
   "cell_type": "code",
   "execution_count": 10,
   "id": "0ac4c766",
   "metadata": {},
   "outputs": [
    {
     "data": {
      "text/plain": [
       "45013.5582010582"
      ]
     },
     "execution_count": 10,
     "metadata": {},
     "output_type": "execute_result"
    }
   ],
   "source": [
    "df.Sales.mean()"
   ]
  },
  {
   "cell_type": "code",
   "execution_count": 11,
   "id": "0d8133be",
   "metadata": {},
   "outputs": [
    {
     "data": {
      "text/plain": [
       "18.00542328042328"
      ]
     },
     "execution_count": 11,
     "metadata": {},
     "output_type": "execute_result"
    }
   ],
   "source": [
    "df.Unit.mean()"
   ]
  },
  {
   "cell_type": "code",
   "execution_count": 12,
   "id": "2104fdbf",
   "metadata": {},
   "outputs": [
    {
     "data": {
      "text/plain": [
       "35000.0"
      ]
     },
     "execution_count": 12,
     "metadata": {},
     "output_type": "execute_result"
    }
   ],
   "source": [
    "df.Sales.median()"
   ]
  },
  {
   "cell_type": "code",
   "execution_count": 13,
   "id": "070956dc",
   "metadata": {},
   "outputs": [
    {
     "data": {
      "text/plain": [
       "14.0"
      ]
     },
     "execution_count": 13,
     "metadata": {},
     "output_type": "execute_result"
    }
   ],
   "source": [
    "df.Unit.median()"
   ]
  },
  {
   "cell_type": "code",
   "execution_count": 14,
   "id": "85606ce9",
   "metadata": {},
   "outputs": [
    {
     "data": {
      "text/plain": [
       "0    22500\n",
       "Name: Sales, dtype: int64"
      ]
     },
     "execution_count": 14,
     "metadata": {},
     "output_type": "execute_result"
    }
   ],
   "source": [
    "df.Sales.mode()"
   ]
  },
  {
   "cell_type": "code",
   "execution_count": 15,
   "id": "59dbc5b8",
   "metadata": {},
   "outputs": [
    {
     "data": {
      "text/plain": [
       "0    9\n",
       "Name: Unit, dtype: int64"
      ]
     },
     "execution_count": 15,
     "metadata": {},
     "output_type": "execute_result"
    }
   ],
   "source": [
    "df.Unit.mode()"
   ]
  },
  {
   "cell_type": "code",
   "execution_count": 16,
   "id": "d91290f7",
   "metadata": {},
   "outputs": [
    {
     "data": {
      "text/plain": [
       "32253.506943966317"
      ]
     },
     "execution_count": 16,
     "metadata": {},
     "output_type": "execute_result"
    }
   ],
   "source": [
    "df.Sales.std()"
   ]
  },
  {
   "cell_type": "code",
   "execution_count": 17,
   "id": "08a59c86",
   "metadata": {},
   "outputs": [
    {
     "data": {
      "text/plain": [
       "12.901402777586458"
      ]
     },
     "execution_count": 17,
     "metadata": {},
     "output_type": "execute_result"
    }
   ],
   "source": [
    "df.Unit.std()"
   ]
  },
  {
   "cell_type": "markdown",
   "id": "630646bb",
   "metadata": {},
   "source": [
    "<div class=\"alert-success\">\n",
    "● GroupBy:\n",
    "</div>"
   ]
  },
  {
   "cell_type": "code",
   "execution_count": 18,
   "id": "65a37a0d",
   "metadata": {},
   "outputs": [
    {
     "name": "stdout",
     "output_type": "stream",
     "text": [
      "Group\n",
      " Kids       85072500\n",
      " Men        85750000\n",
      " Seniors    84037500\n",
      " Women      85442500\n",
      "Name: Sales, dtype: int64\n",
      "\n",
      "Group Generating Highest Sales:  Men\n",
      "Group Generating Lowest Sales:  Seniors\n"
     ]
    }
   ],
   "source": [
    "group_sales =df.groupby('Group')['Sales'].sum()\n",
    "print(group_sales)\n",
    "\n",
    "# Determine which group is generating the highest sales, and which group is generating the lowest sales.\n",
    "highest_group_sales = group_sales.idxmax()\n",
    "lowest_group_sales = group_sales.idxmin()\n",
    "print(\"\\nGroup Generating Highest Sales:\", highest_group_sales)\n",
    "print(\"Group Generating Lowest Sales:\", lowest_group_sales)"
   ]
  },
  {
   "cell_type": "code",
   "execution_count": 19,
   "id": "a984868b",
   "metadata": {
    "scrolled": true
   },
   "outputs": [
    {
     "name": "stdout",
     "output_type": "stream",
     "text": [
      "State\n",
      " NSW     74970000\n",
      " NT      22580000\n",
      " QLD     33417500\n",
      " SA      58857500\n",
      " TAS     22760000\n",
      " VIC    105565000\n",
      " WA      22152500\n",
      "Name: Sales, dtype: int64\n",
      "\n",
      "State Generating Highest Sales:  VIC\n",
      "State Generating Lowest Sales:  WA\n"
     ]
    }
   ],
   "source": [
    "state_sales = df.groupby('State')['Sales'].sum()\n",
    "print(state_sales)\n",
    "\n",
    "# Determine which state is generating the highest sales, and which state is generating the lowest sales.\n",
    "highest_state_sales = state_sales.idxmax()\n",
    "lowest_state_sales = state_sales.idxmin()\n",
    "print(\"\\nState Generating Highest Sales:\", highest_state_sales)\n",
    "print(\"State Generating Lowest Sales:\", lowest_state_sales)"
   ]
  },
  {
   "cell_type": "markdown",
   "id": "e0b4180c",
   "metadata": {},
   "source": [
    "<div class=\"alert-success\">\n",
    "● Share recommendation on the usage of the groupby() function:\n",
    "</div>"
   ]
  },
  {
   "cell_type": "code",
   "execution_count": 20,
   "id": "0306380d",
   "metadata": {},
   "outputs": [
    {
     "name": "stdout",
     "output_type": "stream",
     "text": [
      "Group\n",
      " Kids       34029\n",
      " Men        34300\n",
      " Seniors    33615\n",
      " Women      34177\n",
      "Name: Unit, dtype: int64\n",
      "\n",
      "Group Generating Highest Units:  Men\n",
      "Group Generating Lowest Units:  Seniors\n"
     ]
    }
   ],
   "source": [
    "group_unit= df.groupby('Group')['Unit'].sum()\n",
    "print(group_unit)\n",
    "\n",
    "# Determine which group is generating the highest sales, and which state is generating the lowest sales.\n",
    "highest_group_unit = group_unit.idxmax()\n",
    "lowest_group_unit = group_unit.idxmin()\n",
    "print(\"\\nGroup Generating Highest Units:\", highest_group_unit)\n",
    "print(\"Group Generating Lowest Units:\", lowest_group_unit)"
   ]
  },
  {
   "cell_type": "code",
   "execution_count": 21,
   "id": "7d4620f2",
   "metadata": {},
   "outputs": [
    {
     "name": "stdout",
     "output_type": "stream",
     "text": [
      "Time\n",
      " Afternoon    114007500\n",
      " Evening      112087500\n",
      " Morning      114207500\n",
      "Name: Sales, dtype: int64\n",
      "\n",
      "Time Generating Highest Sales:  Morning\n",
      "Time Generating Lowest Sales:  Evening\n"
     ]
    }
   ],
   "source": [
    "time_sales= df.groupby('Time')['Sales'].sum()\n",
    "print(time_sales)\n",
    "\n",
    "# Determine which state is generating the highest sales, and which state is generating the lowest sales.\n",
    "highest_time_sales = time_sales.idxmax()\n",
    "lowest_time_sales = time_sales.idxmin()\n",
    "print(\"\\nTime Generating Highest Sales:\", highest_time_sales)\n",
    "print(\"Time Generating Lowest Sales:\", lowest_time_sales)"
   ]
  },
  {
   "cell_type": "markdown",
   "id": "eea0e6b1",
   "metadata": {},
   "source": [
    "<div class=\"alert-success\">\n",
    "● Generate Daily, Weekly, Monthly, and Quarterly Reports:\n",
    "</div>"
   ]
  },
  {
   "cell_type": "code",
   "execution_count": 22,
   "id": "4e046056",
   "metadata": {},
   "outputs": [
    {
     "name": "stdout",
     "output_type": "stream",
     "text": [
      "\n",
      "Daily Report:\n",
      "Date\n",
      "2020-10-01    3720000\n",
      "2020-10-02    3715000\n",
      "2020-10-03    3890000\n",
      "2020-10-04    3720000\n",
      "2020-10-05    3862500\n",
      "Freq: D, Name: Sales, dtype: int64\n",
      "\n",
      "Weekly Report:\n",
      "Date\n",
      "2020-10-04    15045000\n",
      "2020-10-11    27002500\n",
      "2020-10-18    26640000\n",
      "2020-10-25    26815000\n",
      "2020-11-01    21807500\n",
      "Freq: W-SUN, Name: Sales, dtype: int64\n",
      "\n",
      "Monthly Report:\n",
      "Date\n",
      "2020-10-31    114290000\n",
      "2020-11-30     90682500\n",
      "2020-12-31    135330000\n",
      "Freq: M, Name: Sales, dtype: int64\n",
      "\n",
      "Quarterly Report:\n",
      "Date\n",
      "2020-12-31    340302500\n",
      "Freq: Q-DEC, Name: Sales, dtype: int64\n"
     ]
    }
   ],
   "source": [
    "df['Date'] = pd.to_datetime(df['Date'])  \n",
    "df.set_index('Date', inplace=True)\n",
    "\n",
    "daily_report= df.resample('D')['Sales'].sum()\n",
    "\n",
    "weekly_report = df.resample('W')['Sales'].sum()\n",
    "\n",
    "monthly_report = df.resample('M')['Sales'].sum()\n",
    "\n",
    "quarterly_report = df.resample('Q')['Sales'].sum()\n",
    "\n",
    "\n",
    "print(\"\\nDaily Report:\")\n",
    "print(daily_report.head())\n",
    "\n",
    "print(\"\\nWeekly Report:\")\n",
    "print(weekly_report.head())\n",
    "\n",
    "print(\"\\nMonthly Report:\")\n",
    "print(monthly_report.head())\n",
    "\n",
    "print(\"\\nQuarterly Report:\")\n",
    "print(quarterly_report.head())"
   ]
  },
  {
   "cell_type": "markdown",
   "id": "a4eba8d9",
   "metadata": {},
   "source": [
    "<div class=\"alert-success\">\n",
    "● Data Normalization:\n",
    "</div>"
   ]
  },
  {
   "cell_type": "code",
   "execution_count": 23,
   "id": "74cc7a68",
   "metadata": {},
   "outputs": [],
   "source": [
    "normlize= ['Sales','Unit']\n",
    "scalar = MinMaxScaler()\n",
    "df[normlize] = scalar.fit_transform(df[normlize])"
   ]
  },
  {
   "cell_type": "code",
   "execution_count": 24,
   "id": "ed414cbf",
   "metadata": {
    "scrolled": true
   },
   "outputs": [
    {
     "data": {
      "text/html": [
       "<div>\n",
       "<style scoped>\n",
       "    .dataframe tbody tr th:only-of-type {\n",
       "        vertical-align: middle;\n",
       "    }\n",
       "\n",
       "    .dataframe tbody tr th {\n",
       "        vertical-align: top;\n",
       "    }\n",
       "\n",
       "    .dataframe thead th {\n",
       "        text-align: right;\n",
       "    }\n",
       "</style>\n",
       "<table border=\"1\" class=\"dataframe\">\n",
       "  <thead>\n",
       "    <tr style=\"text-align: right;\">\n",
       "      <th></th>\n",
       "      <th>Time</th>\n",
       "      <th>State</th>\n",
       "      <th>Group</th>\n",
       "      <th>Unit</th>\n",
       "      <th>Sales</th>\n",
       "    </tr>\n",
       "    <tr>\n",
       "      <th>Date</th>\n",
       "      <th></th>\n",
       "      <th></th>\n",
       "      <th></th>\n",
       "      <th></th>\n",
       "      <th></th>\n",
       "    </tr>\n",
       "  </thead>\n",
       "  <tbody>\n",
       "    <tr>\n",
       "      <th>2020-10-01</th>\n",
       "      <td>Morning</td>\n",
       "      <td>WA</td>\n",
       "      <td>Kids</td>\n",
       "      <td>0.095238</td>\n",
       "      <td>0.095238</td>\n",
       "    </tr>\n",
       "    <tr>\n",
       "      <th>2020-10-01</th>\n",
       "      <td>Morning</td>\n",
       "      <td>WA</td>\n",
       "      <td>Men</td>\n",
       "      <td>0.095238</td>\n",
       "      <td>0.095238</td>\n",
       "    </tr>\n",
       "    <tr>\n",
       "      <th>2020-10-01</th>\n",
       "      <td>Morning</td>\n",
       "      <td>WA</td>\n",
       "      <td>Women</td>\n",
       "      <td>0.031746</td>\n",
       "      <td>0.031746</td>\n",
       "    </tr>\n",
       "    <tr>\n",
       "      <th>2020-10-01</th>\n",
       "      <td>Morning</td>\n",
       "      <td>WA</td>\n",
       "      <td>Seniors</td>\n",
       "      <td>0.206349</td>\n",
       "      <td>0.206349</td>\n",
       "    </tr>\n",
       "    <tr>\n",
       "      <th>2020-10-01</th>\n",
       "      <td>Afternoon</td>\n",
       "      <td>WA</td>\n",
       "      <td>Kids</td>\n",
       "      <td>0.015873</td>\n",
       "      <td>0.015873</td>\n",
       "    </tr>\n",
       "    <tr>\n",
       "      <th>...</th>\n",
       "      <td>...</td>\n",
       "      <td>...</td>\n",
       "      <td>...</td>\n",
       "      <td>...</td>\n",
       "      <td>...</td>\n",
       "    </tr>\n",
       "    <tr>\n",
       "      <th>2020-12-30</th>\n",
       "      <td>Afternoon</td>\n",
       "      <td>TAS</td>\n",
       "      <td>Seniors</td>\n",
       "      <td>0.190476</td>\n",
       "      <td>0.190476</td>\n",
       "    </tr>\n",
       "    <tr>\n",
       "      <th>2020-12-30</th>\n",
       "      <td>Evening</td>\n",
       "      <td>TAS</td>\n",
       "      <td>Kids</td>\n",
       "      <td>0.206349</td>\n",
       "      <td>0.206349</td>\n",
       "    </tr>\n",
       "    <tr>\n",
       "      <th>2020-12-30</th>\n",
       "      <td>Evening</td>\n",
       "      <td>TAS</td>\n",
       "      <td>Men</td>\n",
       "      <td>0.206349</td>\n",
       "      <td>0.206349</td>\n",
       "    </tr>\n",
       "    <tr>\n",
       "      <th>2020-12-30</th>\n",
       "      <td>Evening</td>\n",
       "      <td>TAS</td>\n",
       "      <td>Women</td>\n",
       "      <td>0.142857</td>\n",
       "      <td>0.142857</td>\n",
       "    </tr>\n",
       "    <tr>\n",
       "      <th>2020-12-30</th>\n",
       "      <td>Evening</td>\n",
       "      <td>TAS</td>\n",
       "      <td>Seniors</td>\n",
       "      <td>0.174603</td>\n",
       "      <td>0.174603</td>\n",
       "    </tr>\n",
       "  </tbody>\n",
       "</table>\n",
       "<p>7560 rows × 5 columns</p>\n",
       "</div>"
      ],
      "text/plain": [
       "                  Time State     Group      Unit     Sales\n",
       "Date                                                      \n",
       "2020-10-01     Morning    WA      Kids  0.095238  0.095238\n",
       "2020-10-01     Morning    WA       Men  0.095238  0.095238\n",
       "2020-10-01     Morning    WA     Women  0.031746  0.031746\n",
       "2020-10-01     Morning    WA   Seniors  0.206349  0.206349\n",
       "2020-10-01   Afternoon    WA      Kids  0.015873  0.015873\n",
       "...                ...   ...       ...       ...       ...\n",
       "2020-12-30   Afternoon   TAS   Seniors  0.190476  0.190476\n",
       "2020-12-30     Evening   TAS      Kids  0.206349  0.206349\n",
       "2020-12-30     Evening   TAS       Men  0.206349  0.206349\n",
       "2020-12-30     Evening   TAS     Women  0.142857  0.142857\n",
       "2020-12-30     Evening   TAS   Seniors  0.174603  0.174603\n",
       "\n",
       "[7560 rows x 5 columns]"
      ]
     },
     "execution_count": 24,
     "metadata": {},
     "output_type": "execute_result"
    }
   ],
   "source": [
    "df"
   ]
  },
  {
   "cell_type": "markdown",
   "id": "11ba2618",
   "metadata": {},
   "source": [
    " # <span style='color:green'>  3.\tData Visualization  </span>"
   ]
  },
  {
   "cell_type": "markdown",
   "id": "993ce136",
   "metadata": {},
   "source": [
    "<div class=\"alert-success\">\n",
    " State-wise sales analysis for different groups (kids, women, men, and seniors):\n",
    "</div>"
   ]
  },
  {
   "cell_type": "code",
   "execution_count": 25,
   "id": "6fadbc46",
   "metadata": {
    "scrolled": true
   },
   "outputs": [
    {
     "data": {
      "image/png": "[encoded data removed]",
      "text/plain": [
       "<Figure size 640x480 with 1 Axes>"
      ]
     },
     "metadata": {},
     "output_type": "display_data"
    }
   ],
   "source": [
    "sns.barplot(x='State', y='Sales' ,hue='Group', data=df, palette='dark:#5A9_r')\n",
    "plt.title('State-wise Sales Analysis by Group')\n",
    "plt.xlabel('State')\n",
    "plt.ylabel('Sales')\n",
    "plt.legend(title='Group')\n",
    "plt.show()"
   ]
  },
  {
   "cell_type": "markdown",
   "id": "1a8d89f3",
   "metadata": {},
   "source": [
    "<div class=\"alert-success\">\n",
    "Group-wise sales analysis (kids, women, men, and seniors) across different states:\n",
    "</div>"
   ]
  },
  {
   "cell_type": "code",
   "execution_count": 26,
   "id": "28cd59ab",
   "metadata": {},
   "outputs": [
    {
     "data": {
      "image/png": "[encoded data removed]",
      "text/plain": [
       "<Figure size 640x480 with 1 Axes>"
      ]
     },
     "metadata": {},
     "output_type": "display_data"
    }
   ],
   "source": [
    "sns.barplot(x='Group', y='Sales' ,hue='State', data=df, palette='dark:#5A9_r')\n",
    "plt.title('Group-wise Sales Analysis by State')\n",
    "plt.xlabel('Group')\n",
    "plt.ylabel('Sales')\n",
    "plt.legend(title='State')\n",
    "plt.show()"
   ]
  },
  {
   "cell_type": "markdown",
   "id": "7a7bfdb5",
   "metadata": {},
   "source": [
    "<div class=\"alert-success\">\n",
    "Time-of-the-day analysis:\n",
    "</div>"
   ]
  },
  {
   "cell_type": "code",
   "execution_count": 27,
   "id": "4a05d5f4",
   "metadata": {},
   "outputs": [
    {
     "data": {
      "image/png": "[encoded data removed]",
      "text/plain": [
       "<Figure size 900x400 with 1 Axes>"
      ]
     },
     "metadata": {},
     "output_type": "display_data"
    }
   ],
   "source": [
    "plt.figure(figsize=(9, 4))\n",
    "sns.lineplot(data=df, x='Time', y='Sales', color='green')\n",
    "plt.title('Time-of-the-Day Sales Analysis')\n",
    "plt.xticks(rotation=45)\n",
    "plt.show()"
   ]
  },
  {
   "cell_type": "code",
   "execution_count": 28,
   "id": "49ed4dcd",
   "metadata": {},
   "outputs": [
    {
     "data": {
      "image/png": "[encoded data removed]",
      "text/plain": [
       "<Figure size 1500x1000 with 4 Axes>"
      ]
     },
     "metadata": {},
     "output_type": "display_data"
    }
   ],
   "source": [
    "plt.figure(figsize=(15, 10))\n",
    "\n",
    "# Daily Sales\n",
    "plt.subplot(2, 2, 1)\n",
    "df['Sales'].resample('d').sum().plot(kind='line', color='green')\n",
    "plt.title('Daily Sales')\n",
    "plt.xticks(rotation=45)\n",
    "\n",
    "# Weekly Sales\n",
    "plt.subplot(2, 2, 2)\n",
    "df['Sales'].resample('w').sum().plot(kind='line', color='green')\n",
    "plt.title('Weekly Sales')\n",
    "plt.xticks(rotation=45)\n",
    "\n",
    "\n",
    "# Monthly Sales\n",
    "plt.subplot(2, 2, 3)\n",
    "df['Sales'].resample('m').sum().plot(kind='line', color='green')\n",
    "plt.title('Monthly Sales')\n",
    "plt.xticks(rotation=45)\n",
    "\n",
    "\n",
    "# Quarterly Sales\n",
    "plt.subplot(2, 2, 4)\n",
    "df['Sales'].resample('q').sum().plot(kind='bar', color='green')\n",
    "plt.title('Quarterly Sales')\n",
    "plt.xticks(rotation=45)\n",
    "\n",
    "plt.tight_layout()\n",
    "\n",
    "plt.show()"
   ]
  }
 ],
 "metadata": {
  "kernelspec": {
   "display_name": "Python 3 (ipykernel)",
   "language": "python",
   "name": "python3"
  },
  "language_info": {
   "codemirror_mode": {
    "name": "ipython",
    "version": 3
   },
   "file_extension": ".py",
   "mimetype": "text/x-python",
   "name": "python",
   "nbconvert_exporter": "python",
   "pygments_lexer": "ipython3",
   "version": "3.11.5"
  }
 },
 "nbformat": 4,
 "nbformat_minor": 5
}

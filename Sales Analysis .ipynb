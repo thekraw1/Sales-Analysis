{
 "cells": [
  {
   "cell_type": "markdown",
   "id": "15e18357",
   "metadata": {},
   "source": [
    "# Course-End Project: Sales Analysis"
   ]
  },
  {
   "cell_type": "markdown",
   "id": "9d07e314",
   "metadata": {},
   "source": [
    " # <span style='color:green'>  1.\tData Wrangling  </span>"
   ]
  },
  {
   "cell_type": "markdown",
   "id": "9f79f252",
   "metadata": {},
   "source": [
    "<div class=\"alert-success\">\n",
    "● Importing Libraries and Data:\n",
    "</div>"
   ]
  },
  {
   "cell_type": "code",
   "execution_count": 2,
   "id": "e17db5a6",
   "metadata": {
    "tags": []
   },
   "outputs": [],
   "source": [
    "import datetime\n",
    "import numpy as np\n",
    "import pandas as pd\n",
    "\n",
    "import matplotlib as mpl\n",
    "import matplotlib.pyplot as plt\n",
    "\n",
    "import seaborn as sns\n",
    "import seaborn.objects as so\n",
    "\n",
    "from sklearn import preprocessing\n",
    "from sklearn.preprocessing import MinMaxScaler"
   ]
  },
  {
   "cell_type": "code",
   "execution_count": 6,
   "id": "e6d29397",
   "metadata": {
    "tags": []
   },
   "outputs": [
    {
     "data": {
      "text/html": [
       "<div>\n",
       "<style scoped>\n",
       "    .dataframe tbody tr th:only-of-type {\n",
       "        vertical-align: middle;\n",
       "    }\n",
       "\n",
       "    .dataframe tbody tr th {\n",
       "        vertical-align: top;\n",
       "    }\n",
       "\n",
       "    .dataframe thead th {\n",
       "        text-align: right;\n",
       "    }\n",
       "</style>\n",
       "<table border=\"1\" class=\"dataframe\">\n",
       "  <thead>\n",
       "    <tr style=\"text-align: right;\">\n",
       "      <th></th>\n",
       "      <th>Date</th>\n",
       "      <th>Time</th>\n",
       "      <th>State</th>\n",
       "      <th>Group</th>\n",
       "      <th>Unit</th>\n",
       "      <th>Sales</th>\n",
       "    </tr>\n",
       "  </thead>\n",
       "  <tbody>\n",
       "    <tr>\n",
       "      <th>0</th>\n",
       "      <td>10/1/2020</td>\n",
       "      <td>Morning</td>\n",
       "      <td>WA</td>\n",
       "      <td>Kids</td>\n",
       "      <td>8</td>\n",
       "      <td>20000</td>\n",
       "    </tr>\n",
       "    <tr>\n",
       "      <th>1</th>\n",
       "      <td>10/1/2020</td>\n",
       "      <td>Morning</td>\n",
       "      <td>WA</td>\n",
       "      <td>Men</td>\n",
       "      <td>8</td>\n",
       "      <td>20000</td>\n",
       "    </tr>\n",
       "    <tr>\n",
       "      <th>2</th>\n",
       "      <td>10/1/2020</td>\n",
       "      <td>Morning</td>\n",
       "      <td>WA</td>\n",
       "      <td>Women</td>\n",
       "      <td>4</td>\n",
       "      <td>10000</td>\n",
       "    </tr>\n",
       "    <tr>\n",
       "      <th>3</th>\n",
       "      <td>10/1/2020</td>\n",
       "      <td>Morning</td>\n",
       "      <td>WA</td>\n",
       "      <td>Seniors</td>\n",
       "      <td>15</td>\n",
       "      <td>37500</td>\n",
       "    </tr>\n",
       "    <tr>\n",
       "      <th>4</th>\n",
       "      <td>10/1/2020</td>\n",
       "      <td>Afternoon</td>\n",
       "      <td>WA</td>\n",
       "      <td>Kids</td>\n",
       "      <td>3</td>\n",
       "      <td>7500</td>\n",
       "    </tr>\n",
       "  </tbody>\n",
       "</table>\n",
       "</div>"
      ],
      "text/plain": [
       "        Date        Time State     Group  Unit  Sales\n",
       "0  10/1/2020     Morning    WA      Kids     8  20000\n",
       "1  10/1/2020     Morning    WA       Men     8  20000\n",
       "2  10/1/2020     Morning    WA     Women     4  10000\n",
       "3  10/1/2020     Morning    WA   Seniors    15  37500\n",
       "4  10/1/2020   Afternoon    WA      Kids     3   7500"
      ]
     },
     "execution_count": 6,
     "metadata": {},
     "output_type": "execute_result"
    }
   ],
   "source": [
    "df = pd.read_csv('salsedataset1.csv',encoding='ISO-8859-1', sep=';')\n",
    "df.head()"
   ]
  },
  {
   "cell_type": "code",
   "execution_count": null,
   "id": "538c4444",
   "metadata": {
    "tags": []
   },
   "outputs": [],
   "source": [
    "df.info()"
   ]
  },
  {
   "cell_type": "code",
   "execution_count": null,
   "id": "e6e9480f",
   "metadata": {
    "tags": []
   },
   "outputs": [],
   "source": [
    "df"
   ]
  },
  {
   "cell_type": "code",
   "execution_count": null,
   "id": "89c0f886",
   "metadata": {
    "tags": []
   },
   "outputs": [],
   "source": [
    "df.columns"
   ]
  },
  {
   "cell_type": "markdown",
   "id": "f5a9f63d",
   "metadata": {},
   "source": [
    "<div class=\"alert-success\">\n",
    "●\tEnsure that the data is clean and that there is no missing or incorrect data: \n",
    "</div>"
   ]
  },
  {
   "cell_type": "code",
   "execution_count": null,
   "id": "12c7ae9c-780c-477b-bc86-2ec0d4373393",
   "metadata": {
    "tags": []
   },
   "outputs": [],
   "source": [
    "df.isna()\n",
    "# returns TRUE where it detects a missing value"
   ]
  },
  {
   "cell_type": "code",
   "execution_count": null,
   "id": "280590af-0961-4696-bb57-ea29fa8dafd4",
   "metadata": {
    "tags": []
   },
   "outputs": [],
   "source": [
    "df.notna()\n",
    "# returns TRUE, if the data is free from missing"
   ]
  },
  {
   "cell_type": "code",
   "execution_count": null,
   "id": "63eb3a80",
   "metadata": {},
   "outputs": [],
   "source": [
    "print(df.isnull().sum())"
   ]
  },
  {
   "cell_type": "markdown",
   "id": "c9c92edf",
   "metadata": {},
   "source": [
    " # <span style='color:green'>  2.\tData Analysis   </span>"
   ]
  },
  {
   "cell_type": "markdown",
   "id": "136676cb",
   "metadata": {},
   "source": [
    "<div class=\"alert-success\">\n",
    "● Descriptive Statistical Analysis:\n",
    "</div>"
   ]
  },
  {
   "cell_type": "code",
   "execution_count": null,
   "id": "f8e4c073-09f9-449c-9620-9a5ddcb34706",
   "metadata": {
    "tags": []
   },
   "outputs": [],
   "source": [
    "df.describe()"
   ]
  },
  {
   "cell_type": "code",
   "execution_count": null,
   "id": "0ac4c766",
   "metadata": {},
   "outputs": [],
   "source": [
    "df.Sales.mean()"
   ]
  },
  {
   "cell_type": "code",
   "execution_count": null,
   "id": "0d8133be",
   "metadata": {},
   "outputs": [],
   "source": [
    "df.Unit.mean()"
   ]
  },
  {
   "cell_type": "code",
   "execution_count": null,
   "id": "2104fdbf",
   "metadata": {},
   "outputs": [],
   "source": [
    "df.Sales.median()"
   ]
  },
  {
   "cell_type": "code",
   "execution_count": null,
   "id": "070956dc",
   "metadata": {},
   "outputs": [],
   "source": [
    "df.Unit.median()"
   ]
  },
  {
   "cell_type": "code",
   "execution_count": null,
   "id": "85606ce9",
   "metadata": {},
   "outputs": [],
   "source": [
    "df.Sales.mode()"
   ]
  },
  {
   "cell_type": "code",
   "execution_count": null,
   "id": "59dbc5b8",
   "metadata": {},
   "outputs": [],
   "source": [
    "df.Unit.mode()"
   ]
  },
  {
   "cell_type": "code",
   "execution_count": null,
   "id": "d91290f7",
   "metadata": {},
   "outputs": [],
   "source": [
    "df.Sales.std()"
   ]
  },
  {
   "cell_type": "code",
   "execution_count": null,
   "id": "08a59c86",
   "metadata": {},
   "outputs": [],
   "source": [
    "df.Unit.std()"
   ]
  },
  {
   "cell_type": "markdown",
   "id": "630646bb",
   "metadata": {},
   "source": [
    "<div class=\"alert-success\">\n",
    "● GroupBy:\n",
    "</div>"
   ]
  },
  {
   "cell_type": "code",
   "execution_count": null,
   "id": "65a37a0d",
   "metadata": {},
   "outputs": [],
   "source": [
    "group_sales =df.groupby('Group')['Sales'].sum()\n",
    "print(group_sales)\n",
    "\n",
    "# Determine which group is generating the highest sales, and which group is generating the lowest sales.\n",
    "highest_group_sales = group_sales.idxmax()\n",
    "lowest_group_sales = group_sales.idxmin()\n",
    "print(\"\\nGroup Generating Highest Sales:\", highest_group_sales)\n",
    "print(\"Group Generating Lowest Sales:\", lowest_group_sales)"
   ]
  },
  {
   "cell_type": "code",
   "execution_count": null,
   "id": "a984868b",
   "metadata": {
    "scrolled": true
   },
   "outputs": [],
   "source": [
    "state_sales = df.groupby('State')['Sales'].sum()\n",
    "print(state_sales)\n",
    "\n",
    "# Determine which state is generating the highest sales, and which state is generating the lowest sales.\n",
    "highest_state_sales = state_sales.idxmax()\n",
    "lowest_state_sales = state_sales.idxmin()\n",
    "print(\"\\nState Generating Highest Sales:\", highest_state_sales)\n",
    "print(\"State Generating Lowest Sales:\", lowest_state_sales)"
   ]
  },
  {
   "cell_type": "markdown",
   "id": "e0b4180c",
   "metadata": {},
   "source": [
    "<div class=\"alert-success\">\n",
    "● Share recommendation on the usage of the groupby() function:\n",
    "</div>"
   ]
  },
  {
   "cell_type": "code",
   "execution_count": null,
   "id": "0306380d",
   "metadata": {},
   "outputs": [],
   "source": [
    "group_unit= df.groupby('Group')['Unit'].sum()\n",
    "print(group_unit)\n",
    "\n",
    "# Determine which group is generating the highest sales, and which state is generating the lowest sales.\n",
    "highest_group_unit = group_unit.idxmax()\n",
    "lowest_group_unit = group_unit.idxmin()\n",
    "print(\"\\nGroup Generating Highest Units:\", highest_group_unit)\n",
    "print(\"Group Generating Lowest Units:\", lowest_group_unit)"
   ]
  },
  {
   "cell_type": "code",
   "execution_count": null,
   "id": "7d4620f2",
   "metadata": {},
   "outputs": [],
   "source": [
    "time_sales= df.groupby('Time')['Sales'].sum()\n",
    "print(time_sales)\n",
    "\n",
    "# Determine which state is generating the highest sales, and which state is generating the lowest sales.\n",
    "highest_time_sales = time_sales.idxmax()\n",
    "lowest_time_sales = time_sales.idxmin()\n",
    "print(\"\\nTime Generating Highest Sales:\", highest_time_sales)\n",
    "print(\"Time Generating Lowest Sales:\", lowest_time_sales)"
   ]
  },
  {
   "cell_type": "markdown",
   "id": "eea0e6b1",
   "metadata": {},
   "source": [
    "<div class=\"alert-success\">\n",
    "● Generate Daily, Weekly, Monthly, and Quarterly Reports:\n",
    "</div>"
   ]
  },
  {
   "cell_type": "code",
   "execution_count": null,
   "id": "4e046056",
   "metadata": {},
   "outputs": [],
   "source": [
    "df['Date'] = pd.to_datetime(df['Date'])  \n",
    "df.set_index('Date', inplace=True)\n",
    "\n",
    "daily_report= df.resample('D')['Sales'].sum()\n",
    "\n",
    "weekly_report = df.resample('W')['Sales'].sum()\n",
    "\n",
    "monthly_report = df.resample('M')['Sales'].sum()\n",
    "\n",
    "quarterly_report = df.resample('Q')['Sales'].sum()\n",
    "\n",
    "\n",
    "print(\"\\nDaily Report:\")\n",
    "print(daily_report.head())\n",
    "\n",
    "print(\"\\nWeekly Report:\")\n",
    "print(weekly_report.head())\n",
    "\n",
    "print(\"\\nMonthly Report:\")\n",
    "print(monthly_report.head())\n",
    "\n",
    "print(\"\\nQuarterly Report:\")\n",
    "print(quarterly_report.head())"
   ]
  },
  {
   "cell_type": "markdown",
   "id": "a4eba8d9",
   "metadata": {},
   "source": [
    "<div class=\"alert-success\">\n",
    "● Data Normalization:\n",
    "</div>"
   ]
  },
  {
   "cell_type": "code",
   "execution_count": null,
   "id": "74cc7a68",
   "metadata": {},
   "outputs": [],
   "source": [
    "normlize= ['Sales','Unit']\n",
    "scalar = MinMaxScaler()\n",
    "df[normlize] = scalar.fit_transform(df[normlize])"
   ]
  },
  {
   "cell_type": "code",
   "execution_count": null,
   "id": "ed414cbf",
   "metadata": {
    "scrolled": true
   },
   "outputs": [],
   "source": [
    "df"
   ]
  },
  {
   "cell_type": "markdown",
   "id": "11ba2618",
   "metadata": {},
   "source": [
    " # <span style='color:green'>  3.\tData Visualization  </span>"
   ]
  },
  {
   "cell_type": "markdown",
   "id": "993ce136",
   "metadata": {},
   "source": [
    "<div class=\"alert-success\">\n",
    " State-wise sales analysis for different groups (kids, women, men, and seniors):\n",
    "</div>"
   ]
  },
  {
   "cell_type": "code",
   "execution_count": null,
   "id": "6fadbc46",
   "metadata": {
    "scrolled": true
   },
   "outputs": [],
   "source": [
    "sns.barplot(x='State', y='Sales' ,hue='Group', data=df, palette='dark:#5A9_r')\n",
    "plt.title('State-wise Sales Analysis by Group')\n",
    "plt.xlabel('State')\n",
    "plt.ylabel('Sales')\n",
    "plt.legend(title='Group')\n",
    "plt.show()"
   ]
  },
  {
   "cell_type": "markdown",
   "id": "1a8d89f3",
   "metadata": {},
   "source": [
    "<div class=\"alert-success\">\n",
    "Group-wise sales analysis (kids, women, men, and seniors) across different states:\n",
    "</div>"
   ]
  },
  {
   "cell_type": "code",
   "execution_count": null,
   "id": "28cd59ab",
   "metadata": {},
   "outputs": [],
   "source": [
    "sns.barplot(x='Group', y='Sales' ,hue='State', data=df, palette='dark:#5A9_r')\n",
    "plt.title('Group-wise Sales Analysis by State')\n",
    "plt.xlabel('Group')\n",
    "plt.ylabel('Sales')\n",
    "plt.legend(title='State')\n",
    "plt.show()"
   ]
  },
  {
   "cell_type": "markdown",
   "id": "7a7bfdb5",
   "metadata": {},
   "source": [
    "<div class=\"alert-success\">\n",
    "Time-of-the-day analysis:\n",
    "</div>"
   ]
  },
  {
   "cell_type": "code",
   "execution_count": null,
   "id": "4a05d5f4",
   "metadata": {},
   "outputs": [],
   "source": [
    "plt.figure(figsize=(9, 4))\n",
    "sns.lineplot(data=df, x='Time', y='Sales', color='green')\n",
    "plt.title('Time-of-the-Day Sales Analysis')\n",
    "plt.xticks(rotation=45)\n",
    "plt.show()"
   ]
  },
  {
   "cell_type": "code",
   "execution_count": 4,
   "id": "49ed4dcd",
   "metadata": {},
   "outputs": [
    {
     "ename": "NameError",
     "evalue": "name 'df' is not defined",
     "output_type": "error",
     "traceback": [
      "\u001b[1;31m---------------------------------------------------------------------------\u001b[0m",
      "\u001b[1;31mNameError\u001b[0m                                 Traceback (most recent call last)",
      "Cell \u001b[1;32mIn[4], line 5\u001b[0m\n\u001b[0;32m      3\u001b[0m \u001b[38;5;66;03m# Daily Sales\u001b[39;00m\n\u001b[0;32m      4\u001b[0m plt\u001b[38;5;241m.\u001b[39msubplot(\u001b[38;5;241m2\u001b[39m, \u001b[38;5;241m2\u001b[39m, \u001b[38;5;241m1\u001b[39m)\n\u001b[1;32m----> 5\u001b[0m df[\u001b[38;5;124m'\u001b[39m\u001b[38;5;124mSales\u001b[39m\u001b[38;5;124m'\u001b[39m]\u001b[38;5;241m.\u001b[39mresample(\u001b[38;5;124m'\u001b[39m\u001b[38;5;124md\u001b[39m\u001b[38;5;124m'\u001b[39m)\u001b[38;5;241m.\u001b[39msum()\u001b[38;5;241m.\u001b[39mplot(kind\u001b[38;5;241m=\u001b[39m\u001b[38;5;124m'\u001b[39m\u001b[38;5;124mline\u001b[39m\u001b[38;5;124m'\u001b[39m, color\u001b[38;5;241m=\u001b[39m\u001b[38;5;124m'\u001b[39m\u001b[38;5;124mgreen\u001b[39m\u001b[38;5;124m'\u001b[39m)\n\u001b[0;32m      6\u001b[0m plt\u001b[38;5;241m.\u001b[39mtitle(\u001b[38;5;124m'\u001b[39m\u001b[38;5;124mDaily Sales\u001b[39m\u001b[38;5;124m'\u001b[39m)\n\u001b[0;32m      7\u001b[0m plt\u001b[38;5;241m.\u001b[39mxticks(rotation\u001b[38;5;241m=\u001b[39m\u001b[38;5;241m45\u001b[39m)\n",
      "\u001b[1;31mNameError\u001b[0m: name 'df' is not defined"
     ]
    },
    {
     "data": {
      "image/png": "[encoded data removed]",
      "text/plain": [
       "<Figure size 1500x1000 with 1 Axes>"
      ]
     },
     "metadata": {},
     "output_type": "display_data"
    }
   ],
   "source": [
    "plt.figure(figsize=(15, 10))\n",
    "\n",
    "# Daily Sales\n",
    "plt.subplot(2, 2, 1)\n",
    "df['Sales'].resample('d').sum().plot(kind='line', color='green')\n",
    "plt.title('Daily Sales')\n",
    "plt.xticks(rotation=45)\n",
    "\n",
    "# Weekly Sales\n",
    "plt.subplot(2, 2, 2)\n",
    "df['Sales'].resample('w').sum().plot(kind='line', color='green')\n",
    "plt.title('Weekly Sales')\n",
    "plt.xticks(rotation=45)\n",
    "\n",
    "\n",
    "# Monthly Sales\n",
    "plt.subplot(2, 2, 3)\n",
    "df['Sales'].resample('m').sum().plot(kind='line', color='green')\n",
    "plt.title('Monthly Sales')\n",
    "plt.xticks(rotation=45)\n",
    "\n",
    "\n",
    "# Quarterly Sales\n",
    "plt.subplot(2, 2, 4)\n",
    "df['Sales'].resample('q').sum().plot(kind='bar', color='green')\n",
    "plt.title('Quarterly Sales')\n",
    "plt.xticks(rotation=45)\n",
    "\n",
    "plt.tight_layout()\n",
    "\n",
    "plt.show()"
   ]
  }
 ],
 "metadata": {
  "kernelspec": {
   "display_name": "Python 3 (ipykernel)",
   "language": "python",
   "name": "python3"
  },
  "language_info": {
   "codemirror_mode": {
    "name": "ipython",
    "version": 3
   },
   "file_extension": ".py",
   "mimetype": "text/x-python",
   "name": "python",
   "nbconvert_exporter": "python",
   "pygments_lexer": "ipython3",
   "version": "3.11.5"
  }
 },
 "nbformat": 4,
 "nbformat_minor": 5
}
